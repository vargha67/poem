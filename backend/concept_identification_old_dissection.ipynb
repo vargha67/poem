{
  "nbformat": 4,
  "nbformat_minor": 0,
  "metadata": {
    "colab": {
      "provenance": []
    },
    "kernelspec": {
      "name": "python3",
      "display_name": "Python 3"
    },
    "accelerator": "GPU"
  },
  "cells": [
    {
      "cell_type": "code",
      "metadata": {
        "id": "3-T0LtLas5Lp"
      },
      "source": [
        "# from google.colab import drive\n",
        "# drive.mount('/content/drive')"
      ],
      "execution_count": null,
      "outputs": []
    },
    {
      "cell_type": "code",
      "metadata": {
        "id": "VupqdXHItB8h"
      },
      "source": [
        "import os\n",
        "\n",
        "current_setting_path = '/content/drive/My Drive/Python Projects/POEM Pipeline Results/current_setting.txt'\n",
        "with open(current_setting_path, 'r') as f:\n",
        "    current_setting_title = f.read().splitlines()[0]\n",
        "    print('Current setting:', current_setting_title)\n",
        "\n",
        "title_parts = current_setting_title.split('_')\n",
        "model_name = title_parts[0]\n",
        "dataset_name = '_'.join(title_parts[1:]) \n",
        "\n",
        "!cp -r '/content/drive/My Drive/Python Projects/Network Dissection/NetDissect-Lite-master' '.'\n",
        "!unzip -qq -n './NetDissect-Lite-master/dataset/broden1_224.zip' -d './NetDissect-Lite-master/dataset'\n",
        "\n",
        "new_drive_result_path = '/content/drive/My Drive/Python Projects/POEM Pipeline Results/' + model_name + '_' + dataset_name\n",
        "drive_result_path = new_drive_result_path + '_old'\n",
        "\n",
        "if not os.path.exists(drive_result_path):\n",
        "    os.makedirs(drive_result_path)\n",
        "\n",
        "drive_model_path = new_drive_result_path + '/model.pth'\n",
        "!cp '$drive_model_path' './NetDissect-Lite-master/zoo'\n",
        "!cp '$drive_model_path' '$drive_result_path'\n",
        "\n",
        "drive_dataset_path = new_drive_result_path + '/dataset.zip'\n",
        "!cp '$drive_dataset_path' '$drive_result_path'\n",
        "\n",
        "drive_settings_path = '/content/drive/My Drive/Python Projects/POEM Pipeline Results/settings.pkl'\n",
        "!cp '$drive_settings_path' './NetDissect-Lite-master/zoo'"
      ],
      "execution_count": null,
      "outputs": []
    },
    {
      "cell_type": "code",
      "source": [
        "def save_imported_packages(packages_path):\n",
        "\n",
        "    # Saving imported packages and their versions: \n",
        "    import sys\n",
        "    modules_info = []\n",
        "\n",
        "    for module in sys.modules:\n",
        "        if len(module.split('.')) > 1:   # ignoring subpackages\n",
        "            continue\n",
        "\n",
        "        try:\n",
        "            modules_info.append((module, sys.modules[module].__version__))\n",
        "        except:\n",
        "            try:\n",
        "                if type(sys.modules[module].version) is str:\n",
        "                    modules_info.append((module, sys.modules[module].version))\n",
        "                else:\n",
        "                    modules_info.append((module, sys.modules[module].version()))\n",
        "            except:\n",
        "                try:\n",
        "                    modules_info.append((module, sys.modules[module].VERSION))\n",
        "                except:\n",
        "                    pass\n",
        "\n",
        "    modules_info.sort(key=lambda x: x[0])\n",
        "    with open(packages_path, 'w') as f:\n",
        "        for m in modules_info:\n",
        "            f.write('{} {}\\n'.format(m[0], m[1]))"
      ],
      "metadata": {
        "id": "5GyeayKdx_Ho"
      },
      "execution_count": null,
      "outputs": []
    },
    {
      "cell_type": "code",
      "metadata": {
        "id": "6GUyWiUUNcpl"
      },
      "source": [
        "%cd NetDissect-Lite-master\n",
        "!python main.py $current_setting_title"
      ],
      "execution_count": null,
      "outputs": []
    },
    {
      "cell_type": "code",
      "metadata": {
        "id": "xKS_GQiizKZ6"
      },
      "source": [
        "result_dir = 'identification_results'\n",
        "result_file = result_dir + '.zip'\n",
        "!zip -qq -r $result_file $result_dir\n",
        "!cp $result_file '$drive_result_path'\n",
        "\n",
        "packages_path = drive_result_path + '/identification_packages.log'\n",
        "save_imported_packages(packages_path)"
      ],
      "execution_count": null,
      "outputs": []
    }
  ]
}